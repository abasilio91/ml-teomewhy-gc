{
 "cells": [
  {
   "cell_type": "code",
   "execution_count": 257,
   "metadata": {},
   "outputs": [
    {
     "name": "stdout",
     "output_type": "stream",
     "text": [
      "Requirement already satisfied: scikit-learn in c:\\users\\adam_\\anaconda3\\envs\\mlgc\\lib\\site-packages (1.2.2)\n",
      "Requirement already satisfied: feature_engine in c:\\users\\adam_\\anaconda3\\envs\\mlgc\\lib\\site-packages (1.6.0)\n",
      "Requirement already satisfied: scikit-plot in c:\\users\\adam_\\anaconda3\\envs\\mlgc\\lib\\site-packages (0.3.7)\n",
      "Requirement already satisfied: numpy>=1.17.3 in c:\\users\\adam_\\anaconda3\\envs\\mlgc\\lib\\site-packages (from scikit-learn) (1.23.5)\n",
      "Requirement already satisfied: scipy>=1.3.2 in c:\\users\\adam_\\anaconda3\\envs\\mlgc\\lib\\site-packages (from scikit-learn) (1.10.1)\n",
      "Requirement already satisfied: joblib>=1.1.1 in c:\\users\\adam_\\anaconda3\\envs\\mlgc\\lib\\site-packages (from scikit-learn) (1.1.1)\n",
      "Requirement already satisfied: threadpoolctl>=2.0.0 in c:\\users\\adam_\\anaconda3\\envs\\mlgc\\lib\\site-packages (from scikit-learn) (2.2.0)\n",
      "Requirement already satisfied: pandas>=1.0.3 in c:\\users\\adam_\\anaconda3\\envs\\mlgc\\lib\\site-packages (from feature_engine) (1.5.3)\n",
      "Requirement already satisfied: statsmodels>=0.11.1 in c:\\users\\adam_\\anaconda3\\envs\\mlgc\\lib\\site-packages (from feature_engine) (0.13.5)\n",
      "Requirement already satisfied: matplotlib>=1.4.0 in c:\\users\\adam_\\anaconda3\\envs\\mlgc\\lib\\site-packages (from scikit-plot) (3.7.1)\n",
      "Requirement already satisfied: contourpy>=1.0.1 in c:\\users\\adam_\\anaconda3\\envs\\mlgc\\lib\\site-packages (from matplotlib>=1.4.0->scikit-plot) (1.0.7)\n",
      "Requirement already satisfied: cycler>=0.10 in c:\\users\\adam_\\anaconda3\\envs\\mlgc\\lib\\site-packages (from matplotlib>=1.4.0->scikit-plot) (0.11.0)\n",
      "Requirement already satisfied: fonttools>=4.22.0 in c:\\users\\adam_\\anaconda3\\envs\\mlgc\\lib\\site-packages (from matplotlib>=1.4.0->scikit-plot) (4.39.3)\n",
      "Requirement already satisfied: kiwisolver>=1.0.1 in c:\\users\\adam_\\anaconda3\\envs\\mlgc\\lib\\site-packages (from matplotlib>=1.4.0->scikit-plot) (1.4.4)\n",
      "Requirement already satisfied: packaging>=20.0 in c:\\users\\adam_\\anaconda3\\envs\\mlgc\\lib\\site-packages (from matplotlib>=1.4.0->scikit-plot) (23.1)\n",
      "Requirement already satisfied: pillow>=6.2.0 in c:\\users\\adam_\\anaconda3\\envs\\mlgc\\lib\\site-packages (from matplotlib>=1.4.0->scikit-plot) (9.5.0)\n",
      "Requirement already satisfied: pyparsing>=2.3.1 in c:\\users\\adam_\\anaconda3\\envs\\mlgc\\lib\\site-packages (from matplotlib>=1.4.0->scikit-plot) (3.0.9)\n",
      "Requirement already satisfied: python-dateutil>=2.7 in c:\\users\\adam_\\anaconda3\\envs\\mlgc\\lib\\site-packages (from matplotlib>=1.4.0->scikit-plot) (2.8.2)\n",
      "Requirement already satisfied: pytz>=2020.1 in c:\\users\\adam_\\anaconda3\\envs\\mlgc\\lib\\site-packages (from pandas>=1.0.3->feature_engine) (2022.7)\n",
      "Requirement already satisfied: patsy>=0.5.2 in c:\\users\\adam_\\anaconda3\\envs\\mlgc\\lib\\site-packages (from statsmodels>=0.11.1->feature_engine) (0.5.3)\n",
      "Requirement already satisfied: six in c:\\users\\adam_\\anaconda3\\envs\\mlgc\\lib\\site-packages (from patsy>=0.5.2->statsmodels>=0.11.1->feature_engine) (1.16.0)\n"
     ]
    }
   ],
   "source": [
    "!pip install scikit-learn feature_engine scikit-plot"
   ]
  },
  {
   "cell_type": "code",
   "execution_count": 259,
   "metadata": {},
   "outputs": [],
   "source": [
    "import sqlite3\n",
    "import pandas as pd\n",
    "import scikitplot as skplt\n",
    "\n",
    "from feature_engine import imputation\n",
    "from feature_engine import encoding\n",
    "from sklearn.pipeline import Pipeline\n",
    "from sklearn import tree, ensemble, metrics"
   ]
  },
  {
   "cell_type": "code",
   "execution_count": 234,
   "metadata": {},
   "outputs": [],
   "source": [
    "def import_query(path):\n",
    "    with open(path, 'r') as file:\n",
    "        query = file.read()\n",
    "    return query"
   ]
  },
  {
   "cell_type": "code",
   "execution_count": 235,
   "metadata": {},
   "outputs": [],
   "source": [
    "db_origin = sqlite3.connect(r'C:\\Adam\\Programação\\Projetos\\IA\\MLGC\\data\\silver_gc.db')\n",
    "query_abt = import_query(r'C:\\Adam\\Programação\\Projetos\\IA\\MLGC\\src\\targetedFeatures.sql')\n",
    "df = pd.read_sql(query_abt, db_origin)"
   ]
  },
  {
   "attachments": {},
   "cell_type": "markdown",
   "metadata": {},
   "source": [
    "# SEMMA\n",
    "## Sample"
   ]
  },
  {
   "cell_type": "code",
   "execution_count": 236,
   "metadata": {},
   "outputs": [],
   "source": [
    "columns = df.columns\n",
    "target = ['flNaoChurn']\n",
    "ids = ['dtRef', 'idPlayer']\n",
    "to_remove = ['flAssinatura']\n",
    "\n",
    "features = list(set(columns) - set(target) - set(ids) - set(to_remove))"
   ]
  },
  {
   "cell_type": "code",
   "execution_count": 237,
   "metadata": {},
   "outputs": [],
   "source": [
    "from sklearn import model_selection\n",
    "X_train, X_test, y_train, y_test = model_selection.train_test_split(df[features], df[target], test_size=0.2, random_state=42)"
   ]
  },
  {
   "attachments": {},
   "cell_type": "markdown",
   "metadata": {},
   "source": [
    "# Explore"
   ]
  },
  {
   "cell_type": "code",
   "execution_count": 238,
   "metadata": {},
   "outputs": [
    {
     "data": {
      "text/plain": [
       "descMedal    object\n",
       "dtype: object"
      ]
     },
     "execution_count": 238,
     "metadata": {},
     "output_type": "execute_result"
    }
   ],
   "source": [
    "X_train.dtypes[X_train.dtypes == 'object']"
   ]
  },
  {
   "cell_type": "code",
   "execution_count": 239,
   "metadata": {},
   "outputs": [],
   "source": [
    "# missing values\n",
    "\n",
    "missing_columns = X_train.count()[X_train.count() < X_train.shape[0]].index.sort_values(ascending=True).to_list()\n",
    "missing_flag = [\n",
    "    'WinRate',\n",
    "    'avg1Kill',\n",
    "    'avg2Kill',\n",
    "    'avg3Kill',\n",
    "    'avg4Kill',\n",
    "    'avg5Kill',\n",
    "    'avgAssist',\n",
    "    'avgBombeDefuse',\n",
    "    'avgBombePlant',\n",
    "    'avgClutchWon',\n",
    "    'avgDamage',\n",
    "    'avgDeath',\n",
    "    'avgFirstKill',\n",
    "    'avgFlashAssist',\n",
    "    'avgHitChest',\n",
    "    'avgHitHeadshot',\n",
    "    'avgHitLeftAtm',\n",
    "    'avgHitLeftLeg',\n",
    "    'avgHitRightArm',\n",
    "    'avgHitRightLeg',\n",
    "    'avgHitStomach',\n",
    "    'avgHits',\n",
    "    'avgHs',\n",
    "    'avgHsRate',\n",
    "    'avgKill',\n",
    "    'avgLastAlive',\n",
    "    'avgPlusKill',\n",
    "    'avgRoundsPlayed',\n",
    "    'avgShots',\n",
    "    'avgSurvived',\n",
    "    'avgTk',\n",
    "    'avgTkAssist',\n",
    "    'avgTrade',\n",
    "    'qtRecencia',\n",
    "    'vlHsRate',\n",
    "    'vlLevel',\n",
    "]\n",
    "\n",
    "missing_zero = [\n",
    "    'avgTrade',\n",
    "    'propAncient',\n",
    "    'propDias00',\n",
    "    'propDias01',\n",
    "    'propDias02',\n",
    "    'propDias03',\n",
    "    'propDias04',\n",
    "    'propDias05',\n",
    "    'propDias06',\n",
    "    'propDust2',\n",
    "    'propInferno',\n",
    "    'propMirage',\n",
    "    'propNuke',\n",
    "    'propOverpass',\n",
    "    'propTrain',\n",
    "    'propVertigo',\n",
    "    'qtDias',\n",
    "    'qtPartidas',\n",
    "]\n",
    "\n",
    "cat_features = X_train.dtypes[X_train.dtypes == 'object'].index.tolist()"
   ]
  },
  {
   "cell_type": "code",
   "execution_count": 240,
   "metadata": {},
   "outputs": [
    {
     "name": "stdout",
     "output_type": "stream",
     "text": [
      "['descMedal']\n"
     ]
    }
   ],
   "source": [
    "print(cat_features)"
   ]
  },
  {
   "cell_type": "code",
   "execution_count": 241,
   "metadata": {},
   "outputs": [
    {
     "name": "stdout",
     "output_type": "stream",
     "text": [
      "avgHs             2375\n",
      "avg3Kill          2375\n",
      "propMirage        2375\n",
      "qtMedal              0\n",
      "avgFlashAssist    2375\n",
      "                  ... \n",
      "descMedal            0\n",
      "avg2Kill          2375\n",
      "avgHits           2375\n",
      "avgHitRightLeg    2375\n",
      "avgHitStomach     2375\n",
      "Length: 62, dtype: int64\n"
     ]
    }
   ],
   "source": [
    "print(X_train.isna().sum())"
   ]
  },
  {
   "attachments": {},
   "cell_type": "markdown",
   "metadata": {},
   "source": [
    "## Modify"
   ]
  },
  {
   "cell_type": "code",
   "execution_count": 254,
   "metadata": {},
   "outputs": [],
   "source": [
    "fe_missing_flag = imputation.ArbitraryNumberImputer(variables=missing_flag,\n",
    "                                                    arbitrary_number=-100)\n",
    "\n",
    "fe_missing_zero = imputation.ArbitraryNumberImputer(variables=missing_zero,\n",
    "                                                    arbitrary_number=0)\n",
    "\n",
    "fe_onehot = encoding.OneHotEncoder(variables=cat_features)"
   ]
  },
  {
   "attachments": {},
   "cell_type": "markdown",
   "metadata": {},
   "source": [
    "## Modeling"
   ]
  },
  {
   "cell_type": "code",
   "execution_count": 255,
   "metadata": {},
   "outputs": [
    {
     "name": "stderr",
     "output_type": "stream",
     "text": [
      "c:\\Users\\adam_\\anaconda3\\envs\\mlgc\\Lib\\site-packages\\sklearn\\pipeline.py:405: DataConversionWarning: A column-vector y was passed when a 1d array was expected. Please change the shape of y to (n_samples,), for example using ravel().\n",
      "  self._final_estimator.fit(Xt, y, **fit_params_last_step)\n"
     ]
    },
    {
     "data": {
      "text/html": [
       "<style>#sk-container-id-5 {color: black;background-color: white;}#sk-container-id-5 pre{padding: 0;}#sk-container-id-5 div.sk-toggleable {background-color: white;}#sk-container-id-5 label.sk-toggleable__label {cursor: pointer;display: block;width: 100%;margin-bottom: 0;padding: 0.3em;box-sizing: border-box;text-align: center;}#sk-container-id-5 label.sk-toggleable__label-arrow:before {content: \"▸\";float: left;margin-right: 0.25em;color: #696969;}#sk-container-id-5 label.sk-toggleable__label-arrow:hover:before {color: black;}#sk-container-id-5 div.sk-estimator:hover label.sk-toggleable__label-arrow:before {color: black;}#sk-container-id-5 div.sk-toggleable__content {max-height: 0;max-width: 0;overflow: hidden;text-align: left;background-color: #f0f8ff;}#sk-container-id-5 div.sk-toggleable__content pre {margin: 0.2em;color: black;border-radius: 0.25em;background-color: #f0f8ff;}#sk-container-id-5 input.sk-toggleable__control:checked~div.sk-toggleable__content {max-height: 200px;max-width: 100%;overflow: auto;}#sk-container-id-5 input.sk-toggleable__control:checked~label.sk-toggleable__label-arrow:before {content: \"▾\";}#sk-container-id-5 div.sk-estimator input.sk-toggleable__control:checked~label.sk-toggleable__label {background-color: #d4ebff;}#sk-container-id-5 div.sk-label input.sk-toggleable__control:checked~label.sk-toggleable__label {background-color: #d4ebff;}#sk-container-id-5 input.sk-hidden--visually {border: 0;clip: rect(1px 1px 1px 1px);clip: rect(1px, 1px, 1px, 1px);height: 1px;margin: -1px;overflow: hidden;padding: 0;position: absolute;width: 1px;}#sk-container-id-5 div.sk-estimator {font-family: monospace;background-color: #f0f8ff;border: 1px dotted black;border-radius: 0.25em;box-sizing: border-box;margin-bottom: 0.5em;}#sk-container-id-5 div.sk-estimator:hover {background-color: #d4ebff;}#sk-container-id-5 div.sk-parallel-item::after {content: \"\";width: 100%;border-bottom: 1px solid gray;flex-grow: 1;}#sk-container-id-5 div.sk-label:hover label.sk-toggleable__label {background-color: #d4ebff;}#sk-container-id-5 div.sk-serial::before {content: \"\";position: absolute;border-left: 1px solid gray;box-sizing: border-box;top: 0;bottom: 0;left: 50%;z-index: 0;}#sk-container-id-5 div.sk-serial {display: flex;flex-direction: column;align-items: center;background-color: white;padding-right: 0.2em;padding-left: 0.2em;position: relative;}#sk-container-id-5 div.sk-item {position: relative;z-index: 1;}#sk-container-id-5 div.sk-parallel {display: flex;align-items: stretch;justify-content: center;background-color: white;position: relative;}#sk-container-id-5 div.sk-item::before, #sk-container-id-5 div.sk-parallel-item::before {content: \"\";position: absolute;border-left: 1px solid gray;box-sizing: border-box;top: 0;bottom: 0;left: 50%;z-index: -1;}#sk-container-id-5 div.sk-parallel-item {display: flex;flex-direction: column;z-index: 1;position: relative;background-color: white;}#sk-container-id-5 div.sk-parallel-item:first-child::after {align-self: flex-end;width: 50%;}#sk-container-id-5 div.sk-parallel-item:last-child::after {align-self: flex-start;width: 50%;}#sk-container-id-5 div.sk-parallel-item:only-child::after {width: 0;}#sk-container-id-5 div.sk-dashed-wrapped {border: 1px dashed gray;margin: 0 0.4em 0.5em 0.4em;box-sizing: border-box;padding-bottom: 0.4em;background-color: white;}#sk-container-id-5 div.sk-label label {font-family: monospace;font-weight: bold;display: inline-block;line-height: 1.2em;}#sk-container-id-5 div.sk-label-container {text-align: center;}#sk-container-id-5 div.sk-container {/* jupyter's `normalize.less` sets `[hidden] { display: none; }` but bootstrap.min.css set `[hidden] { display: none !important; }` so we also need the `!important` here to be able to override the default hidden behavior on the sphinx rendered scikit-learn.org. See: https://github.com/scikit-learn/scikit-learn/issues/21755 */display: inline-block !important;position: relative;}#sk-container-id-5 div.sk-text-repr-fallback {display: none;}</style><div id=\"sk-container-id-5\" class=\"sk-top-container\"><div class=\"sk-text-repr-fallback\"><pre>Pipeline(steps=[(&#x27;Missing flag&#x27;,\n",
       "                 ArbitraryNumberImputer(arbitrary_number=-100,\n",
       "                                        variables=[&#x27;WinRate&#x27;, &#x27;avg1Kill&#x27;,\n",
       "                                                   &#x27;avg2Kill&#x27;, &#x27;avg3Kill&#x27;,\n",
       "                                                   &#x27;avg4Kill&#x27;, &#x27;avg5Kill&#x27;,\n",
       "                                                   &#x27;avgAssist&#x27;,\n",
       "                                                   &#x27;avgBombeDefuse&#x27;,\n",
       "                                                   &#x27;avgBombePlant&#x27;,\n",
       "                                                   &#x27;avgClutchWon&#x27;, &#x27;avgDamage&#x27;,\n",
       "                                                   &#x27;avgDeath&#x27;, &#x27;avgFirstKill&#x27;,\n",
       "                                                   &#x27;avgFlashAssist&#x27;,\n",
       "                                                   &#x27;avgHitChest&#x27;,\n",
       "                                                   &#x27;avgHitHeadshot&#x27;,\n",
       "                                                   &#x27;avgHitLeftAtm&#x27;,\n",
       "                                                   &#x27;avgHitLeftLeg&#x27;,\n",
       "                                                   &#x27;avgHitRightArm&#x27;,\n",
       "                                                   &#x27;av...\n",
       "                                        variables=[&#x27;avgTrade&#x27;, &#x27;propAncient&#x27;,\n",
       "                                                   &#x27;propDias00&#x27;, &#x27;propDias01&#x27;,\n",
       "                                                   &#x27;propDias02&#x27;, &#x27;propDias03&#x27;,\n",
       "                                                   &#x27;propDias04&#x27;, &#x27;propDias05&#x27;,\n",
       "                                                   &#x27;propDias06&#x27;, &#x27;propDust2&#x27;,\n",
       "                                                   &#x27;propInferno&#x27;, &#x27;propMirage&#x27;,\n",
       "                                                   &#x27;propNuke&#x27;, &#x27;propOverpass&#x27;,\n",
       "                                                   &#x27;propTrain&#x27;, &#x27;propVertigo&#x27;,\n",
       "                                                   &#x27;qtDias&#x27;, &#x27;qtPartidas&#x27;])),\n",
       "                (&#x27;OneHotEnconder&#x27;, OneHotEncoder(variables=[&#x27;descMedal&#x27;])),\n",
       "                (&#x27;Classificador&#x27;,\n",
       "                 RandomForestClassifier(min_samples_leaf=25,\n",
       "                                        n_estimators=250))])</pre><b>In a Jupyter environment, please rerun this cell to show the HTML representation or trust the notebook. <br />On GitHub, the HTML representation is unable to render, please try loading this page with nbviewer.org.</b></div><div class=\"sk-container\" hidden><div class=\"sk-item sk-dashed-wrapped\"><div class=\"sk-label-container\"><div class=\"sk-label sk-toggleable\"><input class=\"sk-toggleable__control sk-hidden--visually\" id=\"sk-estimator-id-19\" type=\"checkbox\" ><label for=\"sk-estimator-id-19\" class=\"sk-toggleable__label sk-toggleable__label-arrow\">Pipeline</label><div class=\"sk-toggleable__content\"><pre>Pipeline(steps=[(&#x27;Missing flag&#x27;,\n",
       "                 ArbitraryNumberImputer(arbitrary_number=-100,\n",
       "                                        variables=[&#x27;WinRate&#x27;, &#x27;avg1Kill&#x27;,\n",
       "                                                   &#x27;avg2Kill&#x27;, &#x27;avg3Kill&#x27;,\n",
       "                                                   &#x27;avg4Kill&#x27;, &#x27;avg5Kill&#x27;,\n",
       "                                                   &#x27;avgAssist&#x27;,\n",
       "                                                   &#x27;avgBombeDefuse&#x27;,\n",
       "                                                   &#x27;avgBombePlant&#x27;,\n",
       "                                                   &#x27;avgClutchWon&#x27;, &#x27;avgDamage&#x27;,\n",
       "                                                   &#x27;avgDeath&#x27;, &#x27;avgFirstKill&#x27;,\n",
       "                                                   &#x27;avgFlashAssist&#x27;,\n",
       "                                                   &#x27;avgHitChest&#x27;,\n",
       "                                                   &#x27;avgHitHeadshot&#x27;,\n",
       "                                                   &#x27;avgHitLeftAtm&#x27;,\n",
       "                                                   &#x27;avgHitLeftLeg&#x27;,\n",
       "                                                   &#x27;avgHitRightArm&#x27;,\n",
       "                                                   &#x27;av...\n",
       "                                        variables=[&#x27;avgTrade&#x27;, &#x27;propAncient&#x27;,\n",
       "                                                   &#x27;propDias00&#x27;, &#x27;propDias01&#x27;,\n",
       "                                                   &#x27;propDias02&#x27;, &#x27;propDias03&#x27;,\n",
       "                                                   &#x27;propDias04&#x27;, &#x27;propDias05&#x27;,\n",
       "                                                   &#x27;propDias06&#x27;, &#x27;propDust2&#x27;,\n",
       "                                                   &#x27;propInferno&#x27;, &#x27;propMirage&#x27;,\n",
       "                                                   &#x27;propNuke&#x27;, &#x27;propOverpass&#x27;,\n",
       "                                                   &#x27;propTrain&#x27;, &#x27;propVertigo&#x27;,\n",
       "                                                   &#x27;qtDias&#x27;, &#x27;qtPartidas&#x27;])),\n",
       "                (&#x27;OneHotEnconder&#x27;, OneHotEncoder(variables=[&#x27;descMedal&#x27;])),\n",
       "                (&#x27;Classificador&#x27;,\n",
       "                 RandomForestClassifier(min_samples_leaf=25,\n",
       "                                        n_estimators=250))])</pre></div></div></div><div class=\"sk-serial\"><div class=\"sk-item\"><div class=\"sk-estimator sk-toggleable\"><input class=\"sk-toggleable__control sk-hidden--visually\" id=\"sk-estimator-id-20\" type=\"checkbox\" ><label for=\"sk-estimator-id-20\" class=\"sk-toggleable__label sk-toggleable__label-arrow\">ArbitraryNumberImputer</label><div class=\"sk-toggleable__content\"><pre>ArbitraryNumberImputer(arbitrary_number=-100,\n",
       "                       variables=[&#x27;WinRate&#x27;, &#x27;avg1Kill&#x27;, &#x27;avg2Kill&#x27;, &#x27;avg3Kill&#x27;,\n",
       "                                  &#x27;avg4Kill&#x27;, &#x27;avg5Kill&#x27;, &#x27;avgAssist&#x27;,\n",
       "                                  &#x27;avgBombeDefuse&#x27;, &#x27;avgBombePlant&#x27;,\n",
       "                                  &#x27;avgClutchWon&#x27;, &#x27;avgDamage&#x27;, &#x27;avgDeath&#x27;,\n",
       "                                  &#x27;avgFirstKill&#x27;, &#x27;avgFlashAssist&#x27;,\n",
       "                                  &#x27;avgHitChest&#x27;, &#x27;avgHitHeadshot&#x27;,\n",
       "                                  &#x27;avgHitLeftAtm&#x27;, &#x27;avgHitLeftLeg&#x27;,\n",
       "                                  &#x27;avgHitRightArm&#x27;, &#x27;avgHitRightLeg&#x27;,\n",
       "                                  &#x27;avgHitStomach&#x27;, &#x27;avgHits&#x27;, &#x27;avgHs&#x27;,\n",
       "                                  &#x27;avgHsRate&#x27;, &#x27;avgKill&#x27;, &#x27;avgLastAlive&#x27;,\n",
       "                                  &#x27;avgPlusKill&#x27;, &#x27;avgRoundsPlayed&#x27;, &#x27;avgShots&#x27;,\n",
       "                                  &#x27;avgSurvived&#x27;, ...])</pre></div></div></div><div class=\"sk-item\"><div class=\"sk-estimator sk-toggleable\"><input class=\"sk-toggleable__control sk-hidden--visually\" id=\"sk-estimator-id-21\" type=\"checkbox\" ><label for=\"sk-estimator-id-21\" class=\"sk-toggleable__label sk-toggleable__label-arrow\">ArbitraryNumberImputer</label><div class=\"sk-toggleable__content\"><pre>ArbitraryNumberImputer(arbitrary_number=0,\n",
       "                       variables=[&#x27;avgTrade&#x27;, &#x27;propAncient&#x27;, &#x27;propDias00&#x27;,\n",
       "                                  &#x27;propDias01&#x27;, &#x27;propDias02&#x27;, &#x27;propDias03&#x27;,\n",
       "                                  &#x27;propDias04&#x27;, &#x27;propDias05&#x27;, &#x27;propDias06&#x27;,\n",
       "                                  &#x27;propDust2&#x27;, &#x27;propInferno&#x27;, &#x27;propMirage&#x27;,\n",
       "                                  &#x27;propNuke&#x27;, &#x27;propOverpass&#x27;, &#x27;propTrain&#x27;,\n",
       "                                  &#x27;propVertigo&#x27;, &#x27;qtDias&#x27;, &#x27;qtPartidas&#x27;])</pre></div></div></div><div class=\"sk-item\"><div class=\"sk-estimator sk-toggleable\"><input class=\"sk-toggleable__control sk-hidden--visually\" id=\"sk-estimator-id-22\" type=\"checkbox\" ><label for=\"sk-estimator-id-22\" class=\"sk-toggleable__label sk-toggleable__label-arrow\">OneHotEncoder</label><div class=\"sk-toggleable__content\"><pre>OneHotEncoder(variables=[&#x27;descMedal&#x27;])</pre></div></div></div><div class=\"sk-item\"><div class=\"sk-estimator sk-toggleable\"><input class=\"sk-toggleable__control sk-hidden--visually\" id=\"sk-estimator-id-23\" type=\"checkbox\" ><label for=\"sk-estimator-id-23\" class=\"sk-toggleable__label sk-toggleable__label-arrow\">RandomForestClassifier</label><div class=\"sk-toggleable__content\"><pre>RandomForestClassifier(min_samples_leaf=25, n_estimators=250)</pre></div></div></div></div></div></div></div>"
      ],
      "text/plain": [
       "Pipeline(steps=[('Missing flag',\n",
       "                 ArbitraryNumberImputer(arbitrary_number=-100,\n",
       "                                        variables=['WinRate', 'avg1Kill',\n",
       "                                                   'avg2Kill', 'avg3Kill',\n",
       "                                                   'avg4Kill', 'avg5Kill',\n",
       "                                                   'avgAssist',\n",
       "                                                   'avgBombeDefuse',\n",
       "                                                   'avgBombePlant',\n",
       "                                                   'avgClutchWon', 'avgDamage',\n",
       "                                                   'avgDeath', 'avgFirstKill',\n",
       "                                                   'avgFlashAssist',\n",
       "                                                   'avgHitChest',\n",
       "                                                   'avgHitHeadshot',\n",
       "                                                   'avgHitLeftAtm',\n",
       "                                                   'avgHitLeftLeg',\n",
       "                                                   'avgHitRightArm',\n",
       "                                                   'av...\n",
       "                                        variables=['avgTrade', 'propAncient',\n",
       "                                                   'propDias00', 'propDias01',\n",
       "                                                   'propDias02', 'propDias03',\n",
       "                                                   'propDias04', 'propDias05',\n",
       "                                                   'propDias06', 'propDust2',\n",
       "                                                   'propInferno', 'propMirage',\n",
       "                                                   'propNuke', 'propOverpass',\n",
       "                                                   'propTrain', 'propVertigo',\n",
       "                                                   'qtDias', 'qtPartidas'])),\n",
       "                ('OneHotEnconder', OneHotEncoder(variables=['descMedal'])),\n",
       "                ('Classificador',\n",
       "                 RandomForestClassifier(min_samples_leaf=25,\n",
       "                                        n_estimators=250))])"
      ]
     },
     "execution_count": 255,
     "metadata": {},
     "output_type": "execute_result"
    }
   ],
   "source": [
    "model = ensemble.RandomForestClassifier(min_samples_leaf=25, n_estimators=250)\n",
    "\n",
    "model_pipeline = Pipeline([(\"Missing flag\", fe_missing_flag),\n",
    "                           (\"Missing 0\", fe_missing_zero),\n",
    "                           (\"OneHotEnconder\", fe_onehot),\n",
    "                           (\"Classificador\", model),\n",
    "                           ])\n",
    "\n",
    "model_pipeline.fit(X_train, y_train)"
   ]
  },
  {
   "cell_type": "code",
   "execution_count": 250,
   "metadata": {},
   "outputs": [
    {
     "name": "stdout",
     "output_type": "stream",
     "text": [
      "Acurácia de treino: 0.9290760101723651\n"
     ]
    }
   ],
   "source": [
    "y_predict_train = model_pipeline.predict(X_train)\n",
    "\n",
    "acc_train = metrics.accuracy_score(y_train, y_predict_train)\n",
    "print(f\"Acurácia de treino: {acc_train}\")"
   ]
  },
  {
   "cell_type": "code",
   "execution_count": 251,
   "metadata": {},
   "outputs": [
    {
     "name": "stdout",
     "output_type": "stream",
     "text": [
      "Acurácia de teste: 0.8928571428571429\n"
     ]
    }
   ],
   "source": [
    "y_predict_test = model_pipeline.predict(X_test)\n",
    "y_probas = model_pipeline.predict_probas(X_test)\n",
    "\n",
    "acc_test = metrics.accuracy_score(y_test, y_predict_test)\n",
    "print(f\"Acurácia de teste: {acc_test}\")"
   ]
  },
  {
   "cell_type": "code",
   "execution_count": 253,
   "metadata": {},
   "outputs": [
    {
     "data": {
      "text/plain": [
       "qtDiasExpericao     0.262012\n",
       "qtDiasAssinatura    0.035062\n",
       "avgShots            0.021049\n",
       "avgHsRate           0.020366\n",
       "propMirage          0.020085\n",
       "avgBombePlant       0.017913\n",
       "avgHitRightArm      0.017544\n",
       "avgHitRightLeg      0.016938\n",
       "avgTkAssist         0.016413\n",
       "propVertigo         0.016389\n",
       "avgHitHeadshot      0.016135\n",
       "avgHitChest         0.016051\n",
       "avgHitStomach       0.015839\n",
       "propDust2           0.015648\n",
       "avgSurvived         0.015538\n",
       "dtype: float64"
      ]
     },
     "execution_count": 253,
     "metadata": {},
     "output_type": "execute_result"
    }
   ],
   "source": [
    "features_fit = model_pipeline[:-1].transform(X_train).columns.tolist()\n",
    "\n",
    "features_importance = pd.Series(model.feature_importances_, index=features_fit)\n",
    "features_importance.sort_values(ascending=False).head(15)"
   ]
  },
  {
   "cell_type": "code",
   "execution_count": null,
   "metadata": {},
   "outputs": [],
   "source": [
    "skplt.metrics.plot_roc(y_test, y_probas)"
   ]
  },
  {
   "cell_type": "code",
   "execution_count": null,
   "metadata": {},
   "outputs": [],
   "source": [
    "skplt.metrics.plot_ks_statistic(y_test, y_probas)"
   ]
  },
  {
   "cell_type": "code",
   "execution_count": null,
   "metadata": {},
   "outputs": [],
   "source": [
    "skplt.metrics.plot_cumulative_gain(y_test, y_probas)"
   ]
  },
  {
   "cell_type": "code",
   "execution_count": null,
   "metadata": {},
   "outputs": [],
   "source": [
    "skplt.metrics.plot_lift_curve(y_test, y_probas)"
   ]
  }
 ],
 "metadata": {
  "kernelspec": {
   "display_name": "base",
   "language": "python",
   "name": "python3"
  },
  "language_info": {
   "codemirror_mode": {
    "name": "ipython",
    "version": 3
   },
   "file_extension": ".py",
   "mimetype": "text/x-python",
   "name": "python",
   "nbconvert_exporter": "python",
   "pygments_lexer": "ipython3",
   "version": "3.11.3"
  },
  "orig_nbformat": 4
 },
 "nbformat": 4,
 "nbformat_minor": 2
}
